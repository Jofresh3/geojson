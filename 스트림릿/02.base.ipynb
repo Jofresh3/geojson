{
 "cells": [
  {
   "cell_type": "code",
   "execution_count": 1,
   "metadata": {},
   "outputs": [],
   "source": [
    "import geopandas as gpd\n",
    "\n",
    "# Shapefile 로드\n",
    "shapefile_path = '/Users/chjo/Downloads/sig_20230729/sig.shp'\n",
    "gdf = gpd.read_file(shapefile_path)\n",
    "\n",
    "# GeoJSON으로 변환\n",
    "geojson_path = '/Users/chjo/Downloads/sig_20230729/output.geojson'\n",
    "gdf.to_file(geojson_path, driver='GeoJSON')"
   ]
  },
  {
   "cell_type": "code",
   "execution_count": 4,
   "metadata": {},
   "outputs": [],
   "source": [
    "import geopandas as gpd"
   ]
  }
 ],
 "metadata": {
  "kernelspec": {
   "display_name": "Python 3",
   "language": "python",
   "name": "python3"
  },
  "language_info": {
   "codemirror_mode": {
    "name": "ipython",
    "version": 3
   },
   "file_extension": ".py",
   "mimetype": "text/x-python",
   "name": "python",
   "nbconvert_exporter": "python",
   "pygments_lexer": "ipython3",
   "version": "3.10.11"
  }
 },
 "nbformat": 4,
 "nbformat_minor": 2
}
